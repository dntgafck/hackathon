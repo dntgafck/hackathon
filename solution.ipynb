{
 "cells": [
  {
   "cell_type": "code",
   "execution_count": 1,
   "metadata": {
    "collapsed": true
   },
   "outputs": [],
   "source": [
    "import pandas as pd\n",
    "import numpy as np\n",
    "import json\n",
    "df = pd.read_csv('./train.csv')"
   ]
  },
  {
   "cell_type": "code",
   "execution_count": 2,
   "metadata": {
    "collapsed": true
   },
   "outputs": [],
   "source": [
    "N_USERS = 1216082"
   ]
  },
  {
   "cell_type": "code",
   "execution_count": 3,
   "metadata": {
    "collapsed": false
   },
   "outputs": [
    {
     "name": "stdout",
     "output_type": "stream",
     "text": [
      "CPU times: user 26.9 s, sys: 1.02 s, total: 28 s\n",
      "Wall time: 29.1 s\n"
     ]
    }
   ],
   "source": [
    "%%time\n",
    "\n",
    "users = {}\n",
    "edges = {}\n",
    "for row in df.itertuples():\n",
    "    users[row[1]] = row[3]\n",
    "    users[row[2]] = row[4]\n",
    "    if row[1] not in edges:\n",
    "        edges[row[1]] = set()\n",
    "    edges[row[1]].add(row[2])\n",
    "    if row[2] not in edges:\n",
    "        edges[row[2]] = set()\n",
    "    edges[row[2]].add(row[1])"
   ]
  },
  {
   "cell_type": "code",
   "execution_count": 4,
   "metadata": {
    "collapsed": false
   },
   "outputs": [],
   "source": [
    "import networkx as nx"
   ]
  },
  {
   "cell_type": "code",
   "execution_count": 5,
   "metadata": {
    "collapsed": true
   },
   "outputs": [],
   "source": [
    "def create_subgraph(v1, v2):\n",
    "    G = nx.Graph()\n",
    "    nodes = edges[v1]|edges[v2]\n",
    "    nodes.add(v1)\n",
    "    nodes.add(v2)\n",
    "    eds = []\n",
    "    for n in nodes:\n",
    "        for i in edges[n]:\n",
    "            if i not in nodes:\n",
    "                continue\n",
    "            if (i,n) in eds or (n,i) in eds:\n",
    "                continue\n",
    "            eds.append((i,n))\n",
    "    \n",
    "    G.add_nodes_from(nodes)\n",
    "    G.add_edges_from(eds)\n",
    "    return G"
   ]
  },
  {
   "cell_type": "code",
   "execution_count": 6,
   "metadata": {
    "collapsed": false
   },
   "outputs": [],
   "source": [
    "def extract_features(v1, v2):\n",
    "    features = {}\n",
    "    neighbours_cnt = len(edges[v1])\n",
    "    subgraph = create_subgraph(v1, v2)\n",
    "    \n",
    "    node_pairs = list((i, v2) for i in edges[v1] if i != v2)    \n",
    "\n",
    "    jaccard = nx.jaccard_coefficient(subgraph, node_pairs)\n",
    "    features['jaccard'] = 0\n",
    "    for u, v, p in jaccard:\n",
    "        features['jaccard'] += p\n",
    "    features['jaccard'] = features['jaccard']/neighbours_cnt\n",
    "    \n",
    "    features['adamic_adar'] = 0\n",
    "    ad_ad = nx.adamic_adar_index(subgraph, node_pairs)\n",
    "    for u, v, p in ad_ad:\n",
    "        features['adamic_adar'] += p\n",
    "    features['adamic_adar'] = features['adamic_adar']/neighbours_cnt\n",
    "    \n",
    "    features['pref_attachment'] = 0\n",
    "    pref_at = nx.preferential_attachment(subgraph, node_pairs)\n",
    "    for u,v,p in pref_at:\n",
    "        features['pref_attachment'] += p\n",
    "    features['pref_attachment'] = features['pref_attachment']/neighbours_cnt\n",
    "    \n",
    "    p = dict.fromkeys(subgraph, 0)\n",
    "    p[v2] = 1\n",
    "    page_rank_v2 = nx.pagerank_scipy(subgraph, personalization=p)\n",
    "    features['page_rank'] = 0\n",
    "    for n in edges[v1]:\n",
    "        features['page_rank'] += page_rank_v2[n]\n",
    "    features['page_rank'] = features['page_rank']/neighbours_cnt\n",
    "    \n",
    "    return features\n",
    "    \n",
    "    "
   ]
  },
  {
   "cell_type": "code",
   "execution_count": null,
   "metadata": {
    "collapsed": false
   },
   "outputs": [],
   "source": [
    "%%time\n",
    "\n",
    "labels_all = list()\n",
    "\n",
    "data_to_store = list()\n",
    "\n",
    "for v, nodes in edges.iteritems():\n",
    "    if users[v] != 0:\n",
    "        continue\n",
    "    for i in nodes:\n",
    "        for v2 in edges[i]:\n",
    "            if (v, v2) in labels_all or (v2, v) in labels_all:\n",
    "                continue\n",
    "            features = extract_features(v, v2)\n",
    "            data_to_store.append({'features': features, 'class': int(v2 in nodes), 'labels': [v, v2]})\n",
    "            labels_all.append((v, v2))"
   ]
  },
  {
   "cell_type": "code",
   "execution_count": null,
   "metadata": {
    "collapsed": false
   },
   "outputs": [],
   "source": [
    "with open('features.json', 'w') as f:\n",
    "    json.dump(data_to_store, data)"
   ]
  },
  {
   "cell_type": "code",
   "execution_count": null,
   "metadata": {
    "collapsed": true
   },
   "outputs": [],
   "source": []
  }
 ],
 "metadata": {
  "kernelspec": {
   "display_name": "Python 2",
   "language": "python",
   "name": "python2"
  },
  "language_info": {
   "codemirror_mode": {
    "name": "ipython",
    "version": 2
   },
   "file_extension": ".py",
   "mimetype": "text/x-python",
   "name": "python",
   "nbconvert_exporter": "python",
   "pygments_lexer": "ipython2",
   "version": "2.7.10"
  }
 },
 "nbformat": 4,
 "nbformat_minor": 0
}
