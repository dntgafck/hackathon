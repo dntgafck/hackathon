{
 "cells": [
  {
   "cell_type": "code",
   "execution_count": 1,
   "metadata": {
    "collapsed": true
   },
   "outputs": [],
   "source": [
    "import pandas as pd\n",
    "import numpy as np\n",
    "df = pd.read_csv('./train.csv')"
   ]
  },
  {
   "cell_type": "code",
   "execution_count": 2,
   "metadata": {
    "collapsed": true
   },
   "outputs": [],
   "source": [
    "N_USERS = 1216082"
   ]
  },
  {
   "cell_type": "code",
   "execution_count": 3,
   "metadata": {
    "collapsed": false
   },
   "outputs": [
    {
     "name": "stdout",
     "output_type": "stream",
     "text": [
      "CPU times: user 16.3 s, sys: 408 ms, total: 16.7 s\n",
      "Wall time: 17.9 s\n"
     ]
    }
   ],
   "source": [
    "%%time\n",
    "\n",
    "THRESHOLD = 25\n",
    "\n",
    "users = {}\n",
    "edges = {}\n",
    "for row in df.itertuples():\n",
    "    users[row[1]] = row[3]\n",
    "    users[row[2]] = row[4]\n",
    "    if row[5] + row[7] < THRESHOLD:\n",
    "        continue\n",
    "    if row[1] not in edges:\n",
    "        edges[row[1]] = set()\n",
    "    edges[row[1]].add(row[2])\n",
    "    if row[2] not in edges:\n",
    "        edges[row[2]] = set()\n",
    "    edges[row[2]].add(row[1])"
   ]
  },
  {
   "cell_type": "code",
   "execution_count": 4,
   "metadata": {
    "collapsed": true
   },
   "outputs": [],
   "source": [
    "def jaccard(set_1, set_2):\n",
    "    return len(set_1 & set_2)/len(set_1 | set_2)"
   ]
  },
  {
   "cell_type": "code",
   "execution_count": 7,
   "metadata": {
    "collapsed": false
   },
   "outputs": [
    {
     "name": "stdout",
     "output_type": "stream",
     "text": [
      "CPU times: user 13.7 s, sys: 583 ms, total: 14.3 s\n",
      "Wall time: 14.8 s\n"
     ]
    }
   ],
   "source": [
    "%%time\n",
    "\n",
    "MIN_SIMILARITY = 0.5\n",
    "\n",
    "with open('./submission.csv', 'w') as f:\n",
    "    for i in range(N_USERS):\n",
    "        candidates = set([candidate\n",
    "                          for g in edges.get(i, set())\n",
    "                          for candidate in edges.get(g, set())]) - edges.get(i, set()) - set([i])\n",
    "        if users.get(i, 0) != 0:\n",
    "            candidates = set([x for x in candidates if users[x] == 0])\n",
    "        prediction = set()\n",
    "        for v in candidates:\n",
    "            j = jaccard(edges[i], edges[v])\n",
    "            if j >= MIN_SIMILARITY:\n",
    "                prediction.add(v)\n",
    "        f.write(','.join([str(x) for x in [i] + list(candidates)]) + '\\n')"
   ]
  },
  {
   "cell_type": "code",
   "execution_count": null,
   "metadata": {
    "collapsed": true
   },
   "outputs": [],
   "source": []
  }
 ],
 "metadata": {
  "kernelspec": {
   "display_name": "Python 2",
   "language": "python",
   "name": "python2"
  },
  "language_info": {
   "codemirror_mode": {
    "name": "ipython",
    "version": 2
   },
   "file_extension": ".py",
   "mimetype": "text/x-python",
   "name": "python",
   "nbconvert_exporter": "python",
   "pygments_lexer": "ipython2",
   "version": "2.7.10"
  }
 },
 "nbformat": 4,
 "nbformat_minor": 0
}
